{
 "cells": [
  {
   "cell_type": "code",
   "execution_count": 1,
   "id": "e5dd16eb",
   "metadata": {
    "_cell_guid": "b1076dfc-b9ad-4769-8c92-a6c4dae69d19",
    "_uuid": "8f2839f25d086af736a60e9eeb907d3b93b6e0e5",
    "execution": {
     "iopub.execute_input": "2023-05-24T21:12:09.530779Z",
     "iopub.status.busy": "2023-05-24T21:12:09.530256Z",
     "iopub.status.idle": "2023-05-24T21:12:09.552577Z",
     "shell.execute_reply": "2023-05-24T21:12:09.551728Z"
    },
    "papermill": {
     "duration": 0.030779,
     "end_time": "2023-05-24T21:12:09.555238",
     "exception": false,
     "start_time": "2023-05-24T21:12:09.524459",
     "status": "completed"
    },
    "tags": []
   },
   "outputs": [
    {
     "name": "stdout",
     "output_type": "stream",
     "text": [
      "/kaggle/input/operator-license/business-licence-register-licences.csv\n",
      "/kaggle/input/registered-businesses/business-licence-register-businesses.csv\n"
     ]
    }
   ],
   "source": [
    "# This Python 3 environment comes with many helpful analytics libraries installed\n",
    "# It is defined by the kaggle/python Docker image: https://github.com/kaggle/docker-python\n",
    "# For example, here's several helpful packages to load\n",
    "\n",
    "import numpy as np # linear algebra\n",
    "import pandas as pd # data processing, CSV file I/O (e.g. pd.read_csv)\n",
    "\n",
    "# Input data files are available in the read-only \"../input/\" directory\n",
    "# For example, running this (by clicking run or pressing Shift+Enter) will list all files under the input directory\n",
    "\n",
    "import os\n",
    "for dirname, _, filenames in os.walk('/kaggle/input'):\n",
    "    for filename in filenames:\n",
    "        print(os.path.join(dirname, filename))\n",
    "\n",
    "# You can write up to 20GB to the current directory (/kaggle/working/) that gets preserved as output when you create a version using \"Save & Run All\" \n",
    "# You can also write temporary files to /kaggle/temp/, but they won't be saved outside of the current session"
   ]
  },
  {
   "cell_type": "code",
   "execution_count": 2,
   "id": "69ea8c7b",
   "metadata": {
    "execution": {
     "iopub.execute_input": "2023-05-24T21:12:09.564070Z",
     "iopub.status.busy": "2023-05-24T21:12:09.563678Z",
     "iopub.status.idle": "2023-05-24T21:12:09.627599Z",
     "shell.execute_reply": "2023-05-24T21:12:09.626608Z"
    },
    "papermill": {
     "duration": 0.070679,
     "end_time": "2023-05-24T21:12:09.629788",
     "exception": false,
     "start_time": "2023-05-24T21:12:09.559109",
     "status": "completed"
    },
    "tags": []
   },
   "outputs": [
    {
     "data": {
      "text/html": [
       "<div>\n",
       "<style scoped>\n",
       "    .dataframe tbody tr th:only-of-type {\n",
       "        vertical-align: middle;\n",
       "    }\n",
       "\n",
       "    .dataframe tbody tr th {\n",
       "        vertical-align: top;\n",
       "    }\n",
       "\n",
       "    .dataframe thead th {\n",
       "        text-align: right;\n",
       "    }\n",
       "</style>\n",
       "<table border=\"1\" class=\"dataframe\">\n",
       "  <thead>\n",
       "    <tr style=\"text-align: right;\">\n",
       "      <th></th>\n",
       "      <th>Account Number</th>\n",
       "      <th>Licence Number</th>\n",
       "      <th>Status</th>\n",
       "      <th>Type</th>\n",
       "      <th>Activity</th>\n",
       "      <th>Start Date</th>\n",
       "      <th>End Date</th>\n",
       "    </tr>\n",
       "  </thead>\n",
       "  <tbody>\n",
       "    <tr>\n",
       "      <th>0</th>\n",
       "      <td>102</td>\n",
       "      <td>000102-N-317976-007</td>\n",
       "      <td>Active</td>\n",
       "      <td>Non-Remote</td>\n",
       "      <td>Gaming Machine General Adult Gaming Centre</td>\n",
       "      <td>2014-03-12T00:00:00+00:00</td>\n",
       "      <td>NaN</td>\n",
       "    </tr>\n",
       "    <tr>\n",
       "      <th>1</th>\n",
       "      <td>103</td>\n",
       "      <td>000103-N-102731-016</td>\n",
       "      <td>Active</td>\n",
       "      <td>Non-Remote</td>\n",
       "      <td>Gaming Machine General Adult Gaming Centre</td>\n",
       "      <td>2009-01-01T00:00:00+00:00</td>\n",
       "      <td>NaN</td>\n",
       "    </tr>\n",
       "    <tr>\n",
       "      <th>2</th>\n",
       "      <td>103</td>\n",
       "      <td>000103-N-102731-016</td>\n",
       "      <td>Active</td>\n",
       "      <td>Non-Remote</td>\n",
       "      <td>Linked Gaming Machine Technical Supplier</td>\n",
       "      <td>2010-07-26T00:00:00+00:00</td>\n",
       "      <td>NaN</td>\n",
       "    </tr>\n",
       "    <tr>\n",
       "      <th>3</th>\n",
       "      <td>104</td>\n",
       "      <td>000104-N-100087-013</td>\n",
       "      <td>Active</td>\n",
       "      <td>Non-Remote</td>\n",
       "      <td>General Betting Limited</td>\n",
       "      <td>2009-01-01T00:00:00+00:00</td>\n",
       "      <td>NaN</td>\n",
       "    </tr>\n",
       "    <tr>\n",
       "      <th>4</th>\n",
       "      <td>109</td>\n",
       "      <td>000109-N-100074-008</td>\n",
       "      <td>Active</td>\n",
       "      <td>Non-Remote</td>\n",
       "      <td>General Betting Limited</td>\n",
       "      <td>2009-01-01T00:00:00+00:00</td>\n",
       "      <td>NaN</td>\n",
       "    </tr>\n",
       "  </tbody>\n",
       "</table>\n",
       "</div>"
      ],
      "text/plain": [
       "   Account Number       Licence Number  Status        Type  \\\n",
       "0             102  000102-N-317976-007  Active  Non-Remote   \n",
       "1             103  000103-N-102731-016  Active  Non-Remote   \n",
       "2             103  000103-N-102731-016  Active  Non-Remote   \n",
       "3             104  000104-N-100087-013  Active  Non-Remote   \n",
       "4             109  000109-N-100074-008  Active  Non-Remote   \n",
       "\n",
       "                                     Activity                 Start Date  \\\n",
       "0  Gaming Machine General Adult Gaming Centre  2014-03-12T00:00:00+00:00   \n",
       "1  Gaming Machine General Adult Gaming Centre  2009-01-01T00:00:00+00:00   \n",
       "2    Linked Gaming Machine Technical Supplier  2010-07-26T00:00:00+00:00   \n",
       "3                     General Betting Limited  2009-01-01T00:00:00+00:00   \n",
       "4                     General Betting Limited  2009-01-01T00:00:00+00:00   \n",
       "\n",
       "  End Date  \n",
       "0      NaN  \n",
       "1      NaN  \n",
       "2      NaN  \n",
       "3      NaN  \n",
       "4      NaN  "
      ]
     },
     "execution_count": 2,
     "metadata": {},
     "output_type": "execute_result"
    }
   ],
   "source": [
    "#The dataset we need for our analysis is located from a url\n",
    "#Add the dataset to kaggle using the url\n",
    "#load the license data\n",
    "\n",
    "df_licence=pd.read_csv('/kaggle/input/operator-license/business-licence-register-licences.csv')\n",
    "df_licence.head()\n"
   ]
  },
  {
   "cell_type": "code",
   "execution_count": 3,
   "id": "aa34b143",
   "metadata": {
    "execution": {
     "iopub.execute_input": "2023-05-24T21:12:09.639370Z",
     "iopub.status.busy": "2023-05-24T21:12:09.638729Z",
     "iopub.status.idle": "2023-05-24T21:12:09.672474Z",
     "shell.execute_reply": "2023-05-24T21:12:09.671330Z"
    },
    "papermill": {
     "duration": 0.041333,
     "end_time": "2023-05-24T21:12:09.675127",
     "exception": false,
     "start_time": "2023-05-24T21:12:09.633794",
     "status": "completed"
    },
    "tags": []
   },
   "outputs": [
    {
     "name": "stdout",
     "output_type": "stream",
     "text": [
      "<class 'pandas.core.frame.DataFrame'>\n",
      "Int64Index: 1150 entries, 116 to 4732\n",
      "Data columns (total 7 columns):\n",
      " #   Column          Non-Null Count  Dtype \n",
      "---  ------          --------------  ----- \n",
      " 0   Account Number  1150 non-null   int64 \n",
      " 1   Licence Number  1150 non-null   object\n",
      " 2   Status          1150 non-null   object\n",
      " 3   Type            1150 non-null   object\n",
      " 4   Activity        1150 non-null   object\n",
      " 5   Start Date      1150 non-null   object\n",
      " 6   End Date        0 non-null      object\n",
      "dtypes: int64(1), object(6)\n",
      "memory usage: 71.9+ KB\n"
     ]
    }
   ],
   "source": [
    "# Now we only want to keep the license that are a Remote type and 'Active'\n",
    "df_licence=df_licence.loc[(df_licence['Status']=='Active')\n",
    "& (df_licence['Type']=='Remote')]\n",
    "\n",
    "df_licence.info()"
   ]
  },
  {
   "cell_type": "code",
   "execution_count": 4,
   "id": "33b4b5a9",
   "metadata": {
    "execution": {
     "iopub.execute_input": "2023-05-24T21:12:09.685284Z",
     "iopub.status.busy": "2023-05-24T21:12:09.684433Z",
     "iopub.status.idle": "2023-05-24T21:12:09.701722Z",
     "shell.execute_reply": "2023-05-24T21:12:09.700713Z"
    },
    "papermill": {
     "duration": 0.026686,
     "end_time": "2023-05-24T21:12:09.705988",
     "exception": false,
     "start_time": "2023-05-24T21:12:09.679302",
     "status": "completed"
    },
    "tags": []
   },
   "outputs": [
    {
     "name": "stdout",
     "output_type": "stream",
     "text": [
      "<class 'pandas.core.frame.DataFrame'>\n",
      "Int64Index: 1150 entries, 116 to 4732\n",
      "Data columns (total 6 columns):\n",
      " #   Column          Non-Null Count  Dtype \n",
      "---  ------          --------------  ----- \n",
      " 0   Account Number  1150 non-null   int64 \n",
      " 1   Licence Number  1150 non-null   object\n",
      " 2   Status          1150 non-null   object\n",
      " 3   Type            1150 non-null   object\n",
      " 4   Activity        1150 non-null   object\n",
      " 5   Start Date      1150 non-null   object\n",
      "dtypes: int64(1), object(5)\n",
      "memory usage: 62.9+ KB\n"
     ]
    }
   ],
   "source": [
    "#no data in Colunme'End Date' because we have filtered on 'Active' licence\n",
    "#let's drop the 'End Date' column\n",
    "\n",
    "df_licence.dropna(axis=1, inplace=True)\n",
    "df_licence.info()"
   ]
  },
  {
   "cell_type": "code",
   "execution_count": 5,
   "id": "cd003c0a",
   "metadata": {
    "execution": {
     "iopub.execute_input": "2023-05-24T21:12:09.716015Z",
     "iopub.status.busy": "2023-05-24T21:12:09.715632Z",
     "iopub.status.idle": "2023-05-24T21:12:09.732543Z",
     "shell.execute_reply": "2023-05-24T21:12:09.731735Z"
    },
    "papermill": {
     "duration": 0.024193,
     "end_time": "2023-05-24T21:12:09.734624",
     "exception": false,
     "start_time": "2023-05-24T21:12:09.710431",
     "status": "completed"
    },
    "tags": []
   },
   "outputs": [
    {
     "data": {
      "text/html": [
       "<div>\n",
       "<style scoped>\n",
       "    .dataframe tbody tr th:only-of-type {\n",
       "        vertical-align: middle;\n",
       "    }\n",
       "\n",
       "    .dataframe tbody tr th {\n",
       "        vertical-align: top;\n",
       "    }\n",
       "\n",
       "    .dataframe thead th {\n",
       "        text-align: right;\n",
       "    }\n",
       "</style>\n",
       "<table border=\"1\" class=\"dataframe\">\n",
       "  <thead>\n",
       "    <tr style=\"text-align: right;\">\n",
       "      <th></th>\n",
       "      <th>Account Number</th>\n",
       "      <th>Licence Number</th>\n",
       "      <th>Status</th>\n",
       "      <th>Type</th>\n",
       "      <th>Activity</th>\n",
       "      <th>Start Date</th>\n",
       "    </tr>\n",
       "  </thead>\n",
       "  <tbody>\n",
       "    <tr>\n",
       "      <th>116</th>\n",
       "      <td>400</td>\n",
       "      <td>000400-R-103839-026</td>\n",
       "      <td>Active</td>\n",
       "      <td>Remote</td>\n",
       "      <td>Casino</td>\n",
       "      <td>2018-06-11T00:00:00+00:00</td>\n",
       "    </tr>\n",
       "    <tr>\n",
       "      <th>117</th>\n",
       "      <td>400</td>\n",
       "      <td>000400-R-103839-026</td>\n",
       "      <td>Active</td>\n",
       "      <td>Remote</td>\n",
       "      <td>General Betting Standard - Real Event</td>\n",
       "      <td>2009-01-01T00:00:00+00:00</td>\n",
       "    </tr>\n",
       "    <tr>\n",
       "      <th>118</th>\n",
       "      <td>400</td>\n",
       "      <td>000400-R-103839-026</td>\n",
       "      <td>Active</td>\n",
       "      <td>Remote</td>\n",
       "      <td>General Betting Standard - Virtual Event</td>\n",
       "      <td>2020-05-12T00:00:00+00:00</td>\n",
       "    </tr>\n",
       "    <tr>\n",
       "      <th>119</th>\n",
       "      <td>400</td>\n",
       "      <td>000400-R-103839-026</td>\n",
       "      <td>Active</td>\n",
       "      <td>Remote</td>\n",
       "      <td>Pool Betting</td>\n",
       "      <td>2013-07-05T00:00:00+00:00</td>\n",
       "    </tr>\n",
       "    <tr>\n",
       "      <th>148</th>\n",
       "      <td>441</td>\n",
       "      <td>000441-R-103912-017</td>\n",
       "      <td>Active</td>\n",
       "      <td>Remote</td>\n",
       "      <td>Bingo</td>\n",
       "      <td>2009-01-01T00:00:00+00:00</td>\n",
       "    </tr>\n",
       "  </tbody>\n",
       "</table>\n",
       "</div>"
      ],
      "text/plain": [
       "     Account Number       Licence Number  Status    Type  \\\n",
       "116             400  000400-R-103839-026  Active  Remote   \n",
       "117             400  000400-R-103839-026  Active  Remote   \n",
       "118             400  000400-R-103839-026  Active  Remote   \n",
       "119             400  000400-R-103839-026  Active  Remote   \n",
       "148             441  000441-R-103912-017  Active  Remote   \n",
       "\n",
       "                                     Activity                 Start Date  \n",
       "116                                    Casino  2018-06-11T00:00:00+00:00  \n",
       "117     General Betting Standard - Real Event  2009-01-01T00:00:00+00:00  \n",
       "118  General Betting Standard - Virtual Event  2020-05-12T00:00:00+00:00  \n",
       "119                              Pool Betting  2013-07-05T00:00:00+00:00  \n",
       "148                                     Bingo  2009-01-01T00:00:00+00:00  "
      ]
     },
     "execution_count": 5,
     "metadata": {},
     "output_type": "execute_result"
    }
   ],
   "source": [
    "#Only a few activites are pertinent to our analysis, so we will keep only those rows\n",
    "\n",
    "df_licence=df_licence.loc[df_licence['Activity'].isin(['Casino','Bingo',\n",
    "                                                       'External Lottery Manager',\n",
    "                                                       'General Betting Standard - Virtual Event',\n",
    "                                                       'General Betting Standard - Real Event',\n",
    "                                                      'Pool Betting'])]\n",
    "df_licence.head()"
   ]
  },
  {
   "cell_type": "code",
   "execution_count": 6,
   "id": "7f1781d1",
   "metadata": {
    "execution": {
     "iopub.execute_input": "2023-05-24T21:12:09.745281Z",
     "iopub.status.busy": "2023-05-24T21:12:09.744656Z",
     "iopub.status.idle": "2023-05-24T21:12:09.758950Z",
     "shell.execute_reply": "2023-05-24T21:12:09.757721Z"
    },
    "papermill": {
     "duration": 0.022675,
     "end_time": "2023-05-24T21:12:09.761739",
     "exception": false,
     "start_time": "2023-05-24T21:12:09.739064",
     "status": "completed"
    },
    "tags": []
   },
   "outputs": [
    {
     "name": "stdout",
     "output_type": "stream",
     "text": [
      "<class 'pandas.core.frame.DataFrame'>\n",
      "Int64Index: 247 entries, 116 to 4707\n",
      "Data columns (total 5 columns):\n",
      " #   Column          Non-Null Count  Dtype \n",
      "---  ------          --------------  ----- \n",
      " 0   Account Number  247 non-null    int64 \n",
      " 1   Licence Number  247 non-null    object\n",
      " 2   Status          247 non-null    object\n",
      " 3   Type            247 non-null    object\n",
      " 4   Start Date      247 non-null    object\n",
      "dtypes: int64(1), object(4)\n",
      "memory usage: 11.6+ KB\n"
     ]
    },
    {
     "name": "stderr",
     "output_type": "stream",
     "text": [
      "/tmp/ipykernel_20/4262610364.py:6: SettingWithCopyWarning: \n",
      "A value is trying to be set on a copy of a slice from a DataFrame\n",
      "\n",
      "See the caveats in the documentation: https://pandas.pydata.org/pandas-docs/stable/user_guide/indexing.html#returning-a-view-versus-a-copy\n",
      "  df_list.drop(columns=['Activity'], inplace=True)\n"
     ]
    }
   ],
   "source": [
    "# When we check the licence data, we can see some duplicates of licences. \n",
    "# This is because operator can register multiple activities under once licence\n",
    "# Let's drop the duplicates of licences from the dataset and drop 'Activity' column as we have already finished filtering on it\n",
    "\n",
    "df_list=df_licence.drop_duplicates(subset=['Licence Number'], keep='first')\n",
    "df_list.drop(columns=['Activity'], inplace=True)\n",
    "df_list.info()\n",
    "\n"
   ]
  },
  {
   "cell_type": "code",
   "execution_count": 7,
   "id": "7474fd68",
   "metadata": {
    "execution": {
     "iopub.execute_input": "2023-05-24T21:12:09.772643Z",
     "iopub.status.busy": "2023-05-24T21:12:09.772289Z",
     "iopub.status.idle": "2023-05-24T21:12:09.800468Z",
     "shell.execute_reply": "2023-05-24T21:12:09.799392Z"
    },
    "papermill": {
     "duration": 0.036701,
     "end_time": "2023-05-24T21:12:09.803027",
     "exception": false,
     "start_time": "2023-05-24T21:12:09.766326",
     "status": "completed"
    },
    "tags": []
   },
   "outputs": [
    {
     "data": {
      "text/html": [
       "<div>\n",
       "<style scoped>\n",
       "    .dataframe tbody tr th:only-of-type {\n",
       "        vertical-align: middle;\n",
       "    }\n",
       "\n",
       "    .dataframe tbody tr th {\n",
       "        vertical-align: top;\n",
       "    }\n",
       "\n",
       "    .dataframe thead th {\n",
       "        text-align: right;\n",
       "    }\n",
       "</style>\n",
       "<table border=\"1\" class=\"dataframe\">\n",
       "  <thead>\n",
       "    <tr style=\"text-align: right;\">\n",
       "      <th></th>\n",
       "      <th>Account Number</th>\n",
       "      <th>Licence Number</th>\n",
       "      <th>Status</th>\n",
       "      <th>Type</th>\n",
       "      <th>Start Date</th>\n",
       "      <th>Licence Account Name</th>\n",
       "    </tr>\n",
       "  </thead>\n",
       "  <tbody>\n",
       "    <tr>\n",
       "      <th>0</th>\n",
       "      <td>400</td>\n",
       "      <td>000400-R-103839-026</td>\n",
       "      <td>Active</td>\n",
       "      <td>Remote</td>\n",
       "      <td>2018-06-11T00:00:00+00:00</td>\n",
       "      <td>Fitzdares Limited</td>\n",
       "    </tr>\n",
       "    <tr>\n",
       "      <th>1</th>\n",
       "      <td>441</td>\n",
       "      <td>000441-R-103912-017</td>\n",
       "      <td>Active</td>\n",
       "      <td>Remote</td>\n",
       "      <td>2009-01-01T00:00:00+00:00</td>\n",
       "      <td>Palatial Leisure Limited</td>\n",
       "    </tr>\n",
       "    <tr>\n",
       "      <th>2</th>\n",
       "      <td>537</td>\n",
       "      <td>000537-R-103205-029</td>\n",
       "      <td>Active</td>\n",
       "      <td>Remote</td>\n",
       "      <td>2010-01-08T00:00:00+00:00</td>\n",
       "      <td>Genting Casinos UK Limited</td>\n",
       "    </tr>\n",
       "    <tr>\n",
       "      <th>3</th>\n",
       "      <td>584</td>\n",
       "      <td>000584-R-103711-013</td>\n",
       "      <td>Active</td>\n",
       "      <td>Remote</td>\n",
       "      <td>2009-01-01T00:00:00+00:00</td>\n",
       "      <td>CFP Lottery and Raffles Limited</td>\n",
       "    </tr>\n",
       "    <tr>\n",
       "      <th>4</th>\n",
       "      <td>614</td>\n",
       "      <td>000614-R-310112-011</td>\n",
       "      <td>Active</td>\n",
       "      <td>Remote</td>\n",
       "      <td>2011-02-08T00:00:00+00:00</td>\n",
       "      <td>Grosvenor Casinos Limited</td>\n",
       "    </tr>\n",
       "  </tbody>\n",
       "</table>\n",
       "</div>"
      ],
      "text/plain": [
       "   Account Number       Licence Number  Status    Type  \\\n",
       "0             400  000400-R-103839-026  Active  Remote   \n",
       "1             441  000441-R-103912-017  Active  Remote   \n",
       "2             537  000537-R-103205-029  Active  Remote   \n",
       "3             584  000584-R-103711-013  Active  Remote   \n",
       "4             614  000614-R-310112-011  Active  Remote   \n",
       "\n",
       "                  Start Date             Licence Account Name  \n",
       "0  2018-06-11T00:00:00+00:00                Fitzdares Limited  \n",
       "1  2009-01-01T00:00:00+00:00         Palatial Leisure Limited  \n",
       "2  2010-01-08T00:00:00+00:00       Genting Casinos UK Limited  \n",
       "3  2009-01-01T00:00:00+00:00  CFP Lottery and Raffles Limited  \n",
       "4  2011-02-08T00:00:00+00:00        Grosvenor Casinos Limited  "
      ]
     },
     "execution_count": 7,
     "metadata": {},
     "output_type": "execute_result"
    }
   ],
   "source": [
    "# Our dataset has account number and licence number, but no business name.\n",
    "# we will add these businesses names to the list by merging df_list and the business dataset\n",
    "# Load the business dataset\n",
    "\n",
    "df_business=pd.read_csv('/kaggle/input/registered-businesses/business-licence-register-businesses.csv')\n",
    "\n",
    "df_list=df_list.merge(df_business,how='inner',on='Account Number')\n",
    "\n",
    "df_list.head()"
   ]
  },
  {
   "cell_type": "code",
   "execution_count": 8,
   "id": "ff528980",
   "metadata": {
    "execution": {
     "iopub.execute_input": "2023-05-24T21:12:09.815146Z",
     "iopub.status.busy": "2023-05-24T21:12:09.814413Z",
     "iopub.status.idle": "2023-05-24T21:12:09.826751Z",
     "shell.execute_reply": "2023-05-24T21:12:09.825620Z"
    },
    "papermill": {
     "duration": 0.021219,
     "end_time": "2023-05-24T21:12:09.829380",
     "exception": false,
     "start_time": "2023-05-24T21:12:09.808161",
     "status": "completed"
    },
    "tags": []
   },
   "outputs": [],
   "source": [
    "# now we export the list to a CSV file\n",
    "\n",
    "df_list.to_csv('operator_list.csv')"
   ]
  }
 ],
 "metadata": {
  "kernelspec": {
   "display_name": "Python 3",
   "language": "python",
   "name": "python3"
  },
  "language_info": {
   "codemirror_mode": {
    "name": "ipython",
    "version": 3
   },
   "file_extension": ".py",
   "mimetype": "text/x-python",
   "name": "python",
   "nbconvert_exporter": "python",
   "pygments_lexer": "ipython3",
   "version": "3.10.10"
  },
  "papermill": {
   "default_parameters": {},
   "duration": 13.511096,
   "end_time": "2023-05-24T21:12:10.655255",
   "environment_variables": {},
   "exception": null,
   "input_path": "__notebook__.ipynb",
   "output_path": "__notebook__.ipynb",
   "parameters": {},
   "start_time": "2023-05-24T21:11:57.144159",
   "version": "2.4.0"
  }
 },
 "nbformat": 4,
 "nbformat_minor": 5
}
